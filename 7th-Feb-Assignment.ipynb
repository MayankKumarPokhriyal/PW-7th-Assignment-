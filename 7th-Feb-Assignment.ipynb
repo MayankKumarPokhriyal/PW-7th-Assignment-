{
 "cells": [
  {
   "cell_type": "markdown",
   "id": "c61f0694",
   "metadata": {},
   "source": [
    "Q1. You are writing code for a company. The requirement of the company is that you create a python function that will check whether the password entered by the user is correct or not. The function should take the password as input and return the string “Valid Password” if the entered password follows the below-given password guidelines else it should return “Invalid Password”.\n",
    "\n",
    "\n",
    "Note: \n",
    "1. The Password should contain at least two uppercase letters and at least two lowercase letters.\n",
    "\n",
    "2. The Password should contain at least a number and three special characters.\n",
    "\n",
    "3. The length of the password should be 10 characters long.\n"
   ]
  },
  {
   "cell_type": "code",
   "execution_count": 25,
   "id": "f6d8bca6",
   "metadata": {},
   "outputs": [
    {
     "name": "stdout",
     "output_type": "stream",
     "text": [
      "Enter your password:  MAxtipoke@%%^*1ll\n",
      "Valid Password\n"
     ]
    }
   ],
   "source": [
    "import string\n",
    "\n",
    "def password_checker(password):\n",
    "    if len(password) >= 10:\n",
    "        \n",
    "    \n",
    "    \n",
    "        upper_count,lower_count,numeric_count,special_count=0,0,0,0\n",
    "\n",
    "\n",
    "        for i in password:\n",
    "            if i in string.ascii_uppercase:\n",
    "                upper_count+=1\n",
    "                \n",
    "\n",
    "            elif i in string.ascii_lowercase:\n",
    "                lower_count+=1\n",
    "                \n",
    "\n",
    "            elif i in string.digits:\n",
    "                numeric_count+=1\n",
    "                \n",
    "\n",
    "            elif i in string.punctuation:\n",
    "                special_count+=1\n",
    "                \n",
    "\n",
    "\n",
    "        if upper_count >=2 and lower_count >=2 and numeric_count >=1 and special_count >=3:\n",
    "            return \"Valid Password\"\n",
    "\n",
    "\n",
    "        else:\n",
    "            return \"Invalid Password\"\n",
    "\n",
    "        \n",
    "    else:\n",
    "        return \"Invalid Password\"\n",
    "\n",
    "        \n",
    "password = input(\"Enter your password: \")\n",
    "validity = password_checker(password)\n",
    "print(validity)"
   ]
  },
  {
   "cell_type": "markdown",
   "id": "d67b7843",
   "metadata": {},
   "source": [
    "Q2. Solve the below-given questions using at least one of the following: \n",
    "\n",
    "1. Lambda function\n",
    "\n",
    "2. Filter function\n",
    "\n",
    "3. Map function\n",
    "\n",
    "4. List ComprehensioI\n",
    "\n"
   ]
  },
  {
   "cell_type": "markdown",
   "id": "d90d22ae",
   "metadata": {},
   "source": [
    "A. Check if the string starts with a particular letter\n"
   ]
  },
  {
   "cell_type": "code",
   "execution_count": 7,
   "id": "1c933430",
   "metadata": {},
   "outputs": [
    {
     "name": "stdout",
     "output_type": "stream",
     "text": [
      "Enter string: mayank\n",
      "Enter letter: s\n",
      "mayank does not starts with s\n"
     ]
    }
   ],
   "source": [
    "check_start = lambda string, letter: string.startswith(letter)\n",
    "\n",
    "string = input(\"Enter string: \")\n",
    "letter = input(\"Enter letter: \")\n",
    "if check_start(string, letter):\n",
    "    print(string + ' starts with ' + letter)\n",
    "else:\n",
    "    print( string + ' does not starts with ' + letter )"
   ]
  },
  {
   "cell_type": "markdown",
   "id": "633f2ebd",
   "metadata": {},
   "source": [
    "B. Check if the string is numeric\n"
   ]
  },
  {
   "cell_type": "code",
   "execution_count": 10,
   "id": "f97ed723",
   "metadata": {},
   "outputs": [
    {
     "name": "stdout",
     "output_type": "stream",
     "text": [
      "Enter string: 1w\n",
      "1w is not numeric\n"
     ]
    }
   ],
   "source": [
    "is_numeric = lambda string : string.isnumeric()\n",
    "\n",
    "string = input(\"Enter string: \")\n",
    "if is_numeric(string):\n",
    "    print(string +' is numeric')\n",
    "else:\n",
    "    print(string +' is not numeric')"
   ]
  },
  {
   "cell_type": "markdown",
   "id": "b263527f",
   "metadata": {},
   "source": [
    "C. Sort a list of tuples having fruit names and their quantity.\n",
    "\n",
    "[(\"mango\",99),(\"orange\",80), (\"grapes\", 1000)]\n"
   ]
  },
  {
   "cell_type": "code",
   "execution_count": 17,
   "id": "5ba1a67b",
   "metadata": {},
   "outputs": [
    {
     "name": "stdout",
     "output_type": "stream",
     "text": [
      "[('orange', 80), ('mango', 99), ('grapes', 1000)]\n"
     ]
    }
   ],
   "source": [
    "fruits = [(\"mango\",99),(\"orange\",80), (\"grapes\", 1000)]\n",
    "fruits.sort(key = lambda ele : ele[1])\n",
    "print(fruits)"
   ]
  },
  {
   "cell_type": "markdown",
   "id": "ba771768",
   "metadata": {},
   "source": [
    "D. Find the squares of numbers from 1 to 10\n"
   ]
  },
  {
   "cell_type": "code",
   "execution_count": 18,
   "id": "f03c7a7b",
   "metadata": {},
   "outputs": [
    {
     "name": "stdout",
     "output_type": "stream",
     "text": [
      "[1, 4, 9, 16, 25, 36, 49, 64, 81, 100]\n"
     ]
    }
   ],
   "source": [
    "num_square = [num**2 for num in range(1,11)]\n",
    "print(num_square)"
   ]
  },
  {
   "cell_type": "markdown",
   "id": "d0564720",
   "metadata": {},
   "source": [
    "E. Find the cube root of numbers from 1 to 10\n"
   ]
  },
  {
   "cell_type": "code",
   "execution_count": 22,
   "id": "a50be546",
   "metadata": {},
   "outputs": [
    {
     "name": "stdout",
     "output_type": "stream",
     "text": [
      "[1.0, 1.26, 1.44, 1.59, 1.71, 1.82, 1.91, 2.0, 2.08, 2.15]\n"
     ]
    }
   ],
   "source": [
    "cube_root = [round(num**(1/3),2) for num in range(1,11)]\n",
    "print(cube_root)"
   ]
  },
  {
   "cell_type": "markdown",
   "id": "2cf3de9a",
   "metadata": {},
   "source": [
    "F. Check if a given number is even\n"
   ]
  },
  {
   "cell_type": "code",
   "execution_count": 29,
   "id": "4ac326b5",
   "metadata": {},
   "outputs": [
    {
     "name": "stdout",
     "output_type": "stream",
     "text": [
      "Enter a number: 23\n",
      "23 is odd\n"
     ]
    }
   ],
   "source": [
    "check_even = lambda num : num % 2 == 0\n",
    "\n",
    "num = int(input(\"Enter a number: \"))\n",
    "if check_even(num):\n",
    "    print( str(num) + \" is even\")\n",
    "else:\n",
    "    print( str(num) + \" is odd\")"
   ]
  },
  {
   "cell_type": "markdown",
   "id": "a1d6858a",
   "metadata": {},
   "source": [
    "G. Filter odd numbers from the given list. [1,2,3,4,5,6,7,8,9,10]\n"
   ]
  },
  {
   "cell_type": "code",
   "execution_count": 30,
   "id": "53cf6520",
   "metadata": {},
   "outputs": [
    {
     "name": "stdout",
     "output_type": "stream",
     "text": [
      "Odd numbers: [1, 3, 5, 7, 9]\n"
     ]
    }
   ],
   "source": [
    "lst = [1,2,3,4,5,6,7,8,9,10]\n",
    "odd_numbers = list(filter(lambda x : x%2 != 0, lst ))\n",
    "print(f\"Odd numbers: {odd_numbers}\")\n"
   ]
  },
  {
   "cell_type": "markdown",
   "id": "00214bae",
   "metadata": {},
   "source": [
    "H. Sort a list of integers into positive and negative integers lists.[1,2,3,4,5,6,-1,-2,-3,-4,-5,0]\n"
   ]
  },
  {
   "cell_type": "code",
   "execution_count": 38,
   "id": "fcf23a18",
   "metadata": {},
   "outputs": [
    {
     "data": {
      "text/plain": [
       "([1, 2, 3, 4, 5, 6], [-1, -2, -3, -4, -5])"
      ]
     },
     "execution_count": 38,
     "metadata": {},
     "output_type": "execute_result"
    }
   ],
   "source": [
    "def sort_list(lst):\n",
    "    plsit=[]\n",
    "    nlist=[]\n",
    "    for num in lst:\n",
    "        if num > 0:\n",
    "            plsit.append(num)\n",
    "\n",
    "        elif num < 0:\n",
    "            nlist.append(num)\n",
    "\n",
    "        else:\n",
    "            pass\n",
    "        \n",
    "\n",
    "    return plsit,nlist    \n",
    "    \n",
    "\n",
    "lst = [1,2,3,4,5,6,-1,-2,-3,-4,-5,0]\n",
    "\n",
    "sort_list(lst)\n",
    "        \n",
    "    \n"
   ]
  },
  {
   "cell_type": "code",
   "execution_count": null,
   "id": "a9fc0731",
   "metadata": {},
   "outputs": [],
   "source": []
  }
 ],
 "metadata": {
  "kernelspec": {
   "display_name": "Python 3 (ipykernel)",
   "language": "python",
   "name": "python3"
  },
  "language_info": {
   "codemirror_mode": {
    "name": "ipython",
    "version": 3
   },
   "file_extension": ".py",
   "mimetype": "text/x-python",
   "name": "python",
   "nbconvert_exporter": "python",
   "pygments_lexer": "ipython3",
   "version": "3.9.13"
  }
 },
 "nbformat": 4,
 "nbformat_minor": 5
}
